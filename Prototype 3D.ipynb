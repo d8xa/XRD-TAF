{
 "cells": [
  {
   "cell_type": "code",
   "execution_count": 1,
   "metadata": {
    "ExecuteTime": {
     "end_time": "2020-05-21T13:09:11.908845Z",
     "start_time": "2020-05-21T13:09:11.396766Z"
    }
   },
   "outputs": [],
   "source": [
    "import numpy as np\n",
    "norm = np.linalg.norm\n",
    "sqrt = np.math.sqrt\n",
    "dot = np.dot\n",
    "array = np.array\n",
    "from scipy.spatial.transform import Rotation\n",
    "import pandas as pd\n",
    "import os\n",
    "\n",
    "from tqdm.notebook import tqdm\n",
    "\n",
    "import matplotlib.pyplot as plt\n",
    "import matplotlib.colors"
   ]
  },
  {
   "cell_type": "code",
   "execution_count": 2,
   "metadata": {
    "ExecuteTime": {
     "end_time": "2020-05-13T12:20:23.978930Z",
     "start_time": "2020-05-13T12:20:23.971948Z"
    }
   },
   "outputs": [],
   "source": [
    "from multiprocessing.pool import ThreadPool"
   ]
  },
  {
   "cell_type": "code",
   "execution_count": 418,
   "metadata": {
    "ExecuteTime": {
     "end_time": "2020-05-21T16:43:06.325722Z",
     "start_time": "2020-05-21T16:43:06.298775Z"
    },
    "code_folding": [
     1,
     2,
     4,
     13,
     24,
     27,
     47,
     67,
     136,
     150,
     157,
     163
    ]
   },
   "outputs": [],
   "source": [
    "class Segmentation:\n",
    "    def __init__(self, **kwargs):\n",
    "        for k, v in kwargs.items():\n",
    "            setattr(self, k, v)\n",
    "        if \"theta\" in kwargs:\n",
    "            self.set_angle(kwargs[\"theta\"])\n",
    "        else:\n",
    "            raise ValueError(\"Diffraction angle missing.\")\n",
    "            \n",
    "    def set_angle(self, angle, degrees=True):\n",
    "        self.theta = angle\n",
    "        self.rot_mat = Rotation.from_euler(\"z\", 180-2*angle, degrees=degrees).as_matrix()[:2,:2]\n",
    "    \n",
    "    def rotate(self, array, angle=None):\n",
    "        if angle is None:\n",
    "            angle = self.theta\n",
    "        return np.matmul(array, seg.rot_mat)\n",
    "    \n",
    "    def gen_coords(self, dtype=np.float64):\n",
    "        b = self.r_cell*(1+self.margin)\n",
    "        X = np.linspace(-b, b, self.resolution[0], dtype=np.float64)\n",
    "        return array(np.meshgrid(X, X, indexing=\"ij\"), dtype=np.float64).swapaxes(0,2)\n",
    "\n",
    "    \n",
    "    def intersectER(self, x, radius, right=True):\n",
    "        return array([(-1)**int(not right)*sqrt(radius**2 - x[1]**2), x[1]])\n",
    "\n",
    "    def dist_F1(self, x):\n",
    "        \"\"\"\n",
    "        REN = ray entry point\n",
    "        REX = ray exit point\n",
    "        \n",
    "        (case A_{s,sc})\n",
    "        \"\"\"\n",
    "\n",
    "        # 1\n",
    "        d_cell, d_sample = 0.0, 0.0\n",
    "        # 2\n",
    "        if norm(x) <= self.r_sample:\n",
    "            REN_g1o = self.intersectER(x, self.r_cell, right=0)\n",
    "            REN_g1i = self.intersectER(x, self.r_sample, right=0)\n",
    "            \n",
    "            d_sample = norm(x - REN_g1i)\n",
    "            d_cell = norm(REN_g1i - REN_g1o)\n",
    "\n",
    "        return d_cell, d_sample\n",
    "\n",
    "    def dist_F2(self, x): \n",
    "        \"\"\"(case A_{c,sc})\"\"\"\n",
    "        \n",
    "        # 1\n",
    "        d_cell, d_sample = 0.0, 0.0\n",
    "        # 2\n",
    "        if self.r_sample < norm(x) <= self.r_cell:\n",
    "            REN_g1o = self.intersectER(x, self.r_cell, right=0)\n",
    "            \n",
    "            if (x[0] >= 0 and abs(x[1]) < self.r_sample): # right of sample and ER intersection\n",
    "                REN_g1i = self.intersectER(x, self.r_sample, right=0)\n",
    "                REX_g1i = self.intersectER(x, self.r_sample)\n",
    "                d_cell = norm(REN_g1o - REN_g1i) + norm(REX_g1i - x)\n",
    "                d_sample = norm(REN_g1i - REX_g1i)\n",
    "\n",
    "            else: # left of sample or no ER sample intersection\n",
    "                d_cell = norm(REN_g1o - x)\n",
    "                \n",
    "        return d_cell, d_sample\n",
    "    \n",
    "    def dist(self, x):\n",
    "        \"\"\"\n",
    "        Computes travel distance of ray through medium with diffraction point in x\n",
    "        \"\"\"\n",
    "        return array([\n",
    "            self.dist_F1(x),\n",
    "            self.dist_F2(x),\n",
    "            self.dist_F2(x)\n",
    "        ])\n",
    "    \n",
    "    \n",
    "    def get_g1_dists(self, coords=None):\n",
    "        if coords is None:\n",
    "            coords = self.gen_coords()\n",
    "        g1_dists = np.apply_along_axis(self.dist, 2, coords)\n",
    "        g1_dists[:,:,2,1] = 0.0\n",
    "        return g1_dists\n",
    "    \n",
    "    def get_g2_dists(self, coords=None):\n",
    "        if coords is None:\n",
    "            coords = self.gen_coords()\n",
    "            \n",
    "        coords_rotated = self.rotate(coords)\n",
    "        return self.get_g1_dists(coords=coords_rotated)\n",
    "            \n",
    "    def get_dists(self, coords=None, g1_dists=None):\n",
    "        if g1_dists is None:\n",
    "            g1_dists = self.get_g1_dists(coords=coords)\n",
    "        g2_dists = self.get_g2_dists(coords=coords)\n",
    "        return g1_dists + g2_dists\n",
    "\n",
    "    def plot_dists(self, cmap=None, distances=None):\n",
    "        if distances is None:\n",
    "            distances = self.get_dists()\n",
    "        \n",
    "        titles = [\"Cell\", \"Sample\", \"Total\"]\n",
    "        fig, axes = plt.subplots(ncols=distances.shape[2], figsize=(16,10), gridspec_kw={'width_ratios': [1]*distances.shape[2]})\n",
    "        for i in range(distances.shape[2]):\n",
    "            im = axes[i].imshow(distances[:,:,i], \n",
    "                        cmap=cmap, interpolation='none', \n",
    "                        origin=\"lower\",\n",
    "                        extent=[-self.r_cell*(1+self.margin), self.r_cell*(1+margin)]*2,\n",
    "                        vmin=distances.min(), vmax=distances.max()\n",
    "                    )\n",
    "            axes[i].set_title(titles[i] + \" distances\")\n",
    "        \n",
    "        if cmap is None:\n",
    "            cmp = plt.cm.get_cmap(\"viridis\", 10)\n",
    "        cmp.set_bad(color='red')\n",
    "        cmp.set_under(color=\"black\")\n",
    "        fig.colorbar(im, ax=axes, orientation='horizontal', fraction=.1, aspect=30, pad=0.1)\n",
    "        return axes\n",
    "    \n",
    "\n",
    "    def get_absorptionfactor(self, distances, mu):\n",
    "        \"\"\"Input dim\"\"\"\n",
    "        case_mask = [[1,1], [1,1], [1,0]]\n",
    "        absorptions = np.exp((-distances * case_mask * self.mu).sum(axis=3))\n",
    "        if \"debug\" in self.__dict__ and self.debug:\n",
    "            print(absorptions.shape)\n",
    "            print(absorptions[absorptions!=1].shape)\n",
    "        return np.array([\n",
    "            np.sum(absorptions[:,:,0][absorptions[:,:,0]!=1])/absorptions[absorptions[:,:,0]!=1].shape[0],\n",
    "            np.sum(absorptions[:,:,1][absorptions[:,:,1]!=1])/absorptions[absorptions[:,:,1]!=1].shape[0],\n",
    "            np.sum(absorptions[:,:,2][absorptions[:,:,2]!=1])/absorptions[absorptions[:,:,2]!=1].shape[0]\n",
    "        ]\n",
    "        )\n",
    "        # TODO: fix this shit\n",
    "    \n",
    "    def step_angle(self, angles, coords=None, g1_dists=None, pbar=None):\n",
    "        factors = np.zeros(shape=(len(angles), len(cases)))\n",
    "        if coords is None:\n",
    "            coords = self.gen_coords()\n",
    "        if g1_dists is None:\n",
    "            g1_dists = self.get_g1_dists(coords=coords)\n",
    "        \n",
    "        for i in range(len(angles)):\n",
    "            self.set_angle(angles[i])\n",
    "            distances = g1_dists + self.get_g2_dists(coords=coords)\n",
    "            factors[i,:] = self.get_absorptionfactor(distances, self.mu)\n",
    "            pbar.update(1)\n",
    "        return factors\n",
    "    \n",
    "    def get_absorptionfactors(self, angles=np.linspace(1.0,90,5), pbar=None):\n",
    "        if pbar is None:\n",
    "            pbar = tqdm(total=angles.size)\n",
    "        coords = self.gen_coords()\n",
    "        angle_absorptions = self.step_angle(angles, coords=coords, pbar=pbar)\n",
    "        return angle_absorptions\n",
    "    \n",
    "    def save_absorptionfactors(self, absorptions, path, angles, float_format=\"%.3f\"):\n",
    "        df = pd.DataFrame(absorptions, index=angles, columns=[\"A_{s,sc}\", \"A_{c,sc}\", \"A_{c,c}\"])\n",
    "        df.index.name = \"2 theta\"\n",
    "        df.index = df.index.map(lambda x: float_format % x)\n",
    "        df.to_csv(path)\n",
    "    \n",
    "    def plot_absorbfactors(self, angles=np.linspace(1.0,90,5), figsize=(18,4), pbar=None):\n",
    "        angle_absorptions = self.get_absorptionfactors(angles, pbar=pbar)\n",
    "\n",
    "        fig, axs = plt.subplots(1, 3, figsize=figsize, sharex=True)\n",
    "        st = fig.suptitle(f\"Absorptions for angles [{angles.min()},...,{angles.max()}]\", fontsize=14)\n",
    "        st.set_y(1.04)\n",
    "\n",
    "        case_strings = [\"A_{s,sc}\", \"A_{c,sc}\", \"A_{c,c}\"]\n",
    "        colors = [\"violet\", \"orange\", \"red\"]\n",
    "        for i in range(3):\n",
    "            axs[i].plot(angles, angle_absorptions[:,i], color=colors[i])\n",
    "            axs[i].set_title(f\"{case_strings[i]}\")\n",
    "\n",
    "        return fig,axs "
   ]
  },
  {
   "cell_type": "code",
   "execution_count": 419,
   "metadata": {
    "ExecuteTime": {
     "end_time": "2020-05-21T16:43:07.083836Z",
     "start_time": "2020-05-21T16:43:07.078850Z"
    }
   },
   "outputs": [],
   "source": [
    "config = {\n",
    "    \"seg\" : {\n",
    "        \"debug\" : False,\n",
    "        \"theta\" : 0.0,\n",
    "        \"r_cell\" : 1.2,\n",
    "        \"r_sample\" : 1.0,\n",
    "        \"mu\" : array([.54747*1E-1, 6.70333*1E-1]),  # cell, sample.\n",
    "        \"margin\" : 0.05,\n",
    "        \"resolution\" : array([1, 1])*2**7\n",
    "    },\n",
    "    \"det\" : {\n",
    "        \"shape\" : array([1, 1])*2**7, # pixel count on each axis.\n",
    "        \"distance\" : 240.18,    # [mm] distance from centerpoint x_0 of medium to projection point p_0 on detector plane.\n",
    "        \"offsets\" : array([4.6, 4.3, 0.0]), # [mm,mm,mm] offsets from p_0 to origin point on detector plane. Origin=lower right.\n",
    "        \"pixelsize\" : 2**4*array([200*1E-3, 200*1E-3]) # [mm,mm] size of each pixel on detector.\n",
    "    }\n",
    "}"
   ]
  },
  {
   "cell_type": "code",
   "execution_count": 21,
   "metadata": {
    "ExecuteTime": {
     "end_time": "2020-05-21T13:12:45.702467Z",
     "start_time": "2020-05-21T13:12:45.699476Z"
    }
   },
   "outputs": [],
   "source": [
    "seg = Segmentation(**config[\"seg\"])"
   ]
  },
  {
   "cell_type": "code",
   "execution_count": 16,
   "metadata": {
    "ExecuteTime": {
     "end_time": "2020-05-21T13:12:23.013004Z",
     "start_time": "2020-05-21T13:12:23.009031Z"
    }
   },
   "outputs": [],
   "source": [
    "coords = seg.gen_coords()"
   ]
  },
  {
   "cell_type": "code",
   "execution_count": 27,
   "metadata": {
    "ExecuteTime": {
     "end_time": "2020-05-21T13:14:16.691538Z",
     "start_time": "2020-05-21T13:14:12.857962Z"
    }
   },
   "outputs": [],
   "source": [
    "g1_dists = seg.get_g1_dists(coords=coords)\n",
    "dists = seg.get_dists(g1_dists=g1_dists, coords=coords)"
   ]
  },
  {
   "cell_type": "code",
   "execution_count": 23,
   "metadata": {
    "ExecuteTime": {
     "end_time": "2020-05-21T13:12:55.028053Z",
     "start_time": "2020-05-21T13:12:54.913816Z"
    }
   },
   "outputs": [
    {
     "data": {
      "text/plain": [
       "<matplotlib.image.AxesImage at 0x1fef377f948>"
      ]
     },
     "execution_count": 23,
     "metadata": {},
     "output_type": "execute_result"
    },
    {
     "data": {
      "image/png": "[encoded data removed]",
      "text/plain": [
       "<Figure size 432x288 with 1 Axes>"
      ]
     },
     "metadata": {
      "needs_background": "light"
     },
     "output_type": "display_data"
    }
   ],
   "source": [
    "plt.imshow(np.flip(dists[:,:,0,1], 0), origin=\"lower\")"
   ]
  },
  {
   "cell_type": "code",
   "execution_count": 28,
   "metadata": {
    "ExecuteTime": {
     "end_time": "2020-05-21T13:14:30.589444Z",
     "start_time": "2020-05-21T13:14:29.960524Z"
    }
   },
   "outputs": [
    {
     "name": "stdout",
     "output_type": "stream",
     "text": [
      "8.93 ms ± 169 µs per loop (mean ± std. dev. of 7 runs, 10 loops each)\n"
     ]
    }
   ],
   "source": [
    "%%timeit -n 10\n",
    "seg.get_absorptionfactor(dists, seg.mu)"
   ]
  },
  {
   "cell_type": "code",
   "execution_count": 483,
   "metadata": {
    "ExecuteTime": {
     "end_time": "2020-05-21T17:08:18.003039Z",
     "start_time": "2020-05-21T17:08:17.993063Z"
    }
   },
   "outputs": [],
   "source": [
    "case_mask = [[1,1], [1,1], [1,0]]\n",
    "absorptions = np.exp((-dists * case_mask * seg.mu).sum(axis=3))"
   ]
  },
  {
   "cell_type": "code",
   "execution_count": 484,
   "metadata": {
    "ExecuteTime": {
     "end_time": "2020-05-21T17:08:18.664669Z",
     "start_time": "2020-05-21T17:08:18.656669Z"
    }
   },
   "outputs": [
    {
     "data": {
      "text/plain": [
       "array([0.325577  , 0.58561793, 0.92539792])"
      ]
     },
     "execution_count": 484,
     "metadata": {},
     "output_type": "execute_result"
    }
   ],
   "source": [
    "np.array([\n",
    "    absorptions[:,:,0][absorptions[:,:,0]!=1].sum()/absorptions[absorptions[:,:,0]!=1].shape[0],\n",
    "    absorptions[:,:,1][absorptions[:,:,1]!=1].sum()/absorptions[absorptions[:,:,1]!=1].shape[0],\n",
    "    absorptions[:,:,2][absorptions[:,:,2]!=1].sum()/absorptions[absorptions[:,:,2]!=1].shape[0]\n",
    "]\n",
    ")"
   ]
  },
  {
   "cell_type": "code",
   "execution_count": 485,
   "metadata": {
    "ExecuteTime": {
     "end_time": "2020-05-21T17:08:19.348450Z",
     "start_time": "2020-05-21T17:08:19.334317Z"
    }
   },
   "outputs": [
    {
     "data": {
      "text/plain": [
       "array([0.325577  , 0.58561793, 0.92539792])"
      ]
     },
     "execution_count": 485,
     "metadata": {},
     "output_type": "execute_result"
    }
   ],
   "source": [
    "seg.get_absorptionfactor(dists, seg.mu)"
   ]
  },
  {
   "cell_type": "code",
   "execution_count": 470,
   "metadata": {
    "ExecuteTime": {
     "end_time": "2020-05-21T17:03:28.943987Z",
     "start_time": "2020-05-21T17:03:28.924017Z"
    },
    "code_folding": [
     11,
     30,
     33,
     37
    ]
   },
   "outputs": [],
   "source": [
    "class Detector:\n",
    "    \"\"\"\n",
    "    Detector is on XY-plane, with z=0. \n",
    "    Every segment point has distance\n",
    "    \"\"\"\n",
    "    def __init__(self, **kwargs):\n",
    "        for k, v in kwargs.items():\n",
    "            setattr(self, k, v)\n",
    "        self.plane_det = self.gen_coords()\n",
    "        self.precompute_trig()\n",
    "    \n",
    "    def gen_coords(self):\n",
    "        X = np.linspace(self.pixelsize[0]*self.shape[0], 0, self.shape[0], dtype=np.float64)\n",
    "        Y = np.linspace(self.pixelsize[1]*self.shape[1], 0, self.shape[1], dtype=np.float64)\n",
    "        plane_coords = array(np.meshgrid(X, Y, indexing=\"ij\"), dtype=np.float64).swapaxes(0,2)\n",
    "        return np.insert(plane_coords, 2, 0, axis=2)\n",
    "    \n",
    "    def translate_segments(self, segment_coords):\n",
    "        \"\"\"\n",
    "        Translate segment 2D space into detector 3D space.\n",
    "        \"\"\"\n",
    "        # Put segment coordinates from segment space axes X,Y on detector space axes Z,X:\n",
    "        plane_seg = np.zeros(array(segment_coords.shape)+[0,0,1]) # expand segment space to 3D\n",
    "        plane_seg[:,:,0] = segment_coords[:,:,1] + self.offsets[0]       # axis swap Y -> X. Add X-offset.\n",
    "        plane_seg[:,:,1] = self.offsets[1]                               # add Y-offset.\n",
    "        plane_seg[:,:,2] = segment_coords[:,:,0] + self.distance         # axis swap X -> Z. Add detector distance.\n",
    "        return plane_seg\n",
    "\n",
    "    # obsolete ?\n",
    "    def translate_segments_inv(self, det_coords):\n",
    "        return det_coords - array([self.offsets[0], self.offsets[1], self.distance])\n",
    "    \n",
    "    def projection(self, segment_plane):\n",
    "        \"\"\"Project coordinates of segment onto plane. (intersection point of g1 and plane)\"\"\"\n",
    "        return segment_plane*[1,1,0]\n",
    "        \n",
    "    def project_Y(self):\n",
    "        \"\"\"Project detector coordinates onto XZ-plane.\"\"\"\n",
    "        return self.plane_det*[1,0,1]#+[0,self.offsets[1],0]\n",
    "    \n",
    "    def precompute_trig(self):\n",
    "        # angles_theta on X-axis, repeat on Y-axis.\n",
    "        # (b) distances on XZ-plane, repeat on Y-axis\n",
    "        # (c) distances on YZ-plane, repeat  on X-axis.\n",
    "        \n",
    "        #self.plane_dists_h = self.distance/\n",
    "        #self.thetas = \n",
    "        \n",
    "        self.trig = np.zeros(self.plane_det.shape)     # array with vectors (theta, b_dist, c_dist)\n",
    "        self.trig[:,:,1] = norm(self.project_Y() - array([self.offsets[0], self.offsets[1], self.distance]), axis=2)\n",
    "        self.trig[:,:,0] = np.apply_along_axis(np.arccos, 0, self.distance/self.trig[:,:,1])*180/np.pi/2\n",
    "        self.trig[:,:,2] = norm(self.plane_det - array([self.offsets[0], self.offsets[1], self.distance]), axis=2)\n",
    "        #self.trig = self.trig.swapaxes(0,1)\n",
    "    \n",
    "    def get_g2_dists_3D(self, i, j, coords, seg):\n",
    "        theta = self.trig[i,0,0]\n",
    "        seg.set_angle(theta)\n",
    "        g2_dists = seg.get_g2_dists(coords=coords)\n",
    "        g2_dists = np.insert(g2_dists, 2, 0, axis=2)[:,:,[1,2,0]]\n",
    "        \n",
    "        cos = self.trig[i,0,1]/self.trig[i,j,2]\n",
    "        return g2_dists/cos\n",
    "    \n",
    "    def absorptionfactors_3D(self, i, coords, pbar_inner=None):\n",
    "        \"\"\"\n",
    "        Calculate absorption factors for each vertical angle (alpha) and one horizontal angle (theta), i.e. \n",
    "        one column of the detector.\n",
    "        OUTPUT SHAPE: (Y resolution, 3)\n",
    "        \"\"\"\n",
    "        # TODO: make sure that self.seg exists.\n",
    "        # calculate g2_dists once, translate into 3D detector space.\n",
    "        theta = np.abs(self.trig[i,0,0])\n",
    "        self.seg.set_angle(theta)\n",
    "        g2_dists = self.seg.get_g2_dists(coords=coords)\n",
    "        g2_dists = np.insert(g2_dists, 2, 0, axis=2)[:,:,[1,2,0]]\n",
    "        \n",
    "        if \"g1_dists\" not in self.__dict__.keys():\n",
    "            raise ValueError(\"Precompute g1_dists first\")\n",
    "        \n",
    "        # for each point on detector, (where theta and alpha are given by position):\n",
    "        #   calculate b/c = cos(alpha).\n",
    "        #   expand 2D g2_dists to 3D g2_dists by stretching g2_dist with cos(alpha).\n",
    "        #   calculate absorption factor.\n",
    "        cosines = np.abs(self.trig[i,0,1]/self.trig[i,:,2])\n",
    "        column = np.zeros((cosines.shape[0], 3)) # (2048,3)\n",
    "        for j in range(cosines.shape[0]):\n",
    "            if pbar_inner is not None and (j % 16)==0:\n",
    "                pbar_inner.set_description(\n",
    "                    f\"(theta, alpha) = ({self.seg.theta:1.4f}, {np.arccos(np.abs(cosines[j]))/2*180/np.pi:1.4f})\"\n",
    "                )\n",
    "            total_dists = self.g1_dists + g2_dists/cosines[j]\n",
    "            tmp = self.seg.get_absorptionfactor(total_dists, seg.mu) # (3,)\n",
    "            column[j] = tmp\n",
    "            if pbar_inner is not None:\n",
    "                pbar_inner.update(1)\n",
    "        return column\n",
    "    \n",
    "    def travel_dists(self, seg):\n",
    "        \"\"\"\n",
    "        Calculate absorption factor columns for all thetas.\n",
    "        OUTPUT SHAPE: (X resolution, Y resolution, 3)\n",
    "        \"\"\"\n",
    "        # Precompute segment coordinates and g1_dists.\n",
    "        self.seg = seg\n",
    "        self.segment_coords = self.seg.gen_coords()\n",
    "        self.g1_dists = self.seg.get_g1_dists() # TODO: make get_g1_dists return all cases simultaneously.\n",
    "        #segment_coords = self.translate_segments(self.segment_coords)\n",
    "        \n",
    "        # For each column step (2theta step) on detector, calculate column of absorption factors for all alphas.\n",
    "        absorptionfactors = np.zeros(self.plane_det.shape) # (2048,2048,3)\n",
    "        try:\n",
    "            pbar_outer = tqdm(total=self.plane_det.shape[0], desc=\"Iterating over detector row (theta angles).\")\n",
    "            pbar_inner = tqdm(total=self.plane_det.shape[1], desc=\"Iterating over detector column (alpha angles).\")\n",
    "            for i in range(self.plane_det.shape[0]):\n",
    "                #self.seg.theta = self.trig[i,0,0]/2\n",
    "                pbar_outer.set_description(f\"theta={self.trig[i,0,0]:1.4f}:\")\n",
    "                pbar_outer.refresh()\n",
    "                absorptionfactors[i,:,:] = self.absorptionfactors_3D(\n",
    "                    i=i, \n",
    "                    #coords=segment_coords[:,:,:2], \n",
    "                    coords=self.segment_coords,\n",
    "                    pbar_inner=pbar_inner\n",
    "                ) # (2048,3)\n",
    "                pbar_outer.update(1)\n",
    "                pbar_inner.reset()\n",
    "                #absorptionfactors[i,:,:] = self.absorptionfactors_3D(theta=self.trig[i,0,0]/2, coords=segment_coords[:,:,:2])\n",
    "        except KeyboardInterrupt:\n",
    "            pbar_outer.close()\n",
    "            pbar_inner.close()\n",
    "        finally:\n",
    "            pbar_outer.close()\n",
    "            pbar_inner.close()\n",
    "        \n",
    "        return absorptionfactors"
   ]
  },
  {
   "cell_type": "code",
   "execution_count": 331,
   "metadata": {
    "ExecuteTime": {
     "end_time": "2020-05-21T15:59:51.247979Z",
     "start_time": "2020-05-21T15:59:51.102813Z"
    }
   },
   "outputs": [
    {
     "data": {
      "text/plain": [
       "<matplotlib.colorbar.Colorbar at 0x1fec3b1c688>"
      ]
     },
     "execution_count": 331,
     "metadata": {},
     "output_type": "execute_result"
    },
    {
     "data": {
      "image/png": "[encoded data removed]",
      "text/plain": [
       "<Figure size 432x288 with 2 Axes>"
      ]
     },
     "metadata": {
      "needs_background": "light"
     },
     "output_type": "display_data"
    }
   ],
   "source": [
    "plt.imshow(det.trig[:,0,1]/det.trig[:,:,2], origin=\"upper\");\n",
    "plt.colorbar()"
   ]
  },
  {
   "cell_type": "code",
   "execution_count": 332,
   "metadata": {
    "ExecuteTime": {
     "end_time": "2020-05-21T16:00:18.961298Z",
     "start_time": "2020-05-21T16:00:18.875527Z"
    }
   },
   "outputs": [
    {
     "data": {
      "text/plain": [
       "<matplotlib.image.AxesImage at 0x1fec413d848>"
      ]
     },
     "execution_count": 332,
     "metadata": {},
     "output_type": "execute_result"
    },
    {
     "data": {
      "image/png": "[encoded data removed]",
      "text/plain": [
       "<Figure size 432x288 with 1 Axes>"
      ]
     },
     "metadata": {
      "needs_background": "light"
     },
     "output_type": "display_data"
    }
   ],
   "source": [
    "plt.imshow(det.plane_det[:,:,0])"
   ]
  },
  {
   "cell_type": "code",
   "execution_count": 310,
   "metadata": {
    "ExecuteTime": {
     "end_time": "2020-05-21T15:48:01.140560Z",
     "start_time": "2020-05-21T15:48:00.741198Z"
    },
    "collapsed": true
   },
   "outputs": [
    {
     "data": {
      "text/plain": [
       "<matplotlib.colorbar.Colorbar at 0x1fea2e08c08>"
      ]
     },
     "execution_count": 310,
     "metadata": {},
     "output_type": "execute_result"
    },
    {
     "data": {
      "image/png": "[encoded data removed]",
      "text/plain": [
       "<Figure size 1152x720 with 4 Axes>"
      ]
     },
     "metadata": {
      "needs_background": "light"
     },
     "output_type": "display_data"
    }
   ],
   "source": [
    "g2, g2_3D = det.get_g2_dists_3D(0,25, seg.gen_coords(), seg)\n",
    "\n",
    "fig, ax = plt.subplots(ncols=2, figsize=(16,10), gridspec_kw={'width_ratios': [1,1]})\n",
    "im0 = ax[0].imshow(g2[:,:,0,0])\n",
    "plt.colorbar(im0, ax=ax[0])\n",
    "im1 = ax[1].imshow(g2_3D[:,:,0,0])\n",
    "plt.colorbar(im1, ax=ax[1])"
   ]
  },
  {
   "cell_type": "code",
   "execution_count": 247,
   "metadata": {
    "ExecuteTime": {
     "end_time": "2020-05-21T15:08:03.131632Z",
     "start_time": "2020-05-21T15:08:03.125664Z"
    },
    "collapsed": true
   },
   "outputs": [
    {
     "data": {
      "text/plain": [
       "array([55.97491921, 55.86831498, 55.76155828, 55.65465748, 55.5476212 ,\n",
       "       55.44045826, 55.33317771, 55.22578885, 55.11830119, 55.01072448,\n",
       "       54.90306873, 54.79534417, 54.68756129, 54.57973081, 54.47186371,\n",
       "       54.36397122, 54.25606482, 54.14815626, 54.04025753, 53.9323809 ,\n",
       "       53.82453887, 53.71674424, 53.60901005, 53.50134963, 53.39377655,\n",
       "       53.28630466, 53.1789481 , 53.07172126, 52.9646388 , 52.85771566,\n",
       "       52.75096705, 52.64440847, 52.53805565, 52.43192464, 52.32603173,\n",
       "       52.22039349, 52.11502676, 52.00994865, 51.90517654, 51.80072806,\n",
       "       51.69662113, 51.5928739 , 51.48950479, 51.38653249, 51.28397591,\n",
       "       51.18185425, 51.08018691, 50.97899356, 50.87829409, 50.77810864,\n",
       "       50.67845755, 50.57936139, 50.48084094, 50.3829172 , 50.28561136,\n",
       "       50.1889448 , 50.0929391 , 49.99761599, 49.9029974 , 49.8091054 ,\n",
       "       49.71596223, 49.62359024, 49.53201195, 49.44124998, 49.35132705,\n",
       "       49.26226602, 49.17408979, 49.08682136, 49.00048381, 48.91510023,\n",
       "       48.83069379, 48.74728765, 48.664905  , 48.58356903, 48.5033029 ,\n",
       "       48.42412973, 48.34607262, 48.26915458, 48.19339854, 48.11882735,\n",
       "       48.04546374, 47.9733303 , 47.9024495 , 47.83284362, 47.76453478,\n",
       "       47.69754488, 47.63189562, 47.56760846, 47.50470462, 47.44320503,\n",
       "       47.38313035, 47.32450093, 47.26733679, 47.21165761, 47.15748272,\n",
       "       47.10483107, 47.05372119, 47.00417124, 46.95619891, 46.90982147,\n",
       "       46.86505571, 46.82191794, 46.78042397, 46.74058912, 46.70242815,\n",
       "       46.66595529, 46.63118421, 46.59812799, 46.56679916, 46.5372096 ,\n",
       "       46.50937062, 46.48329288, 46.4589864 , 46.43646057, 46.41572409,\n",
       "       46.39678503, 46.37965074, 46.36432793, 46.35082258, 46.33913998,\n",
       "       46.32928472, 46.32126067, 46.31507099, 46.31071811, 46.30820376,\n",
       "       46.30752893, 46.30869388, 46.31169815])"
      ]
     },
     "execution_count": 247,
     "metadata": {},
     "output_type": "execute_result"
    }
   ],
   "source": [
    "np.apply_along_axis(np.arccos, 0, det.distance/det.trig[0,:,2])*180/np.pi"
   ]
  },
  {
   "cell_type": "code",
   "execution_count": 570,
   "metadata": {
    "ExecuteTime": {
     "end_time": "2020-05-19T17:05:21.453927Z",
     "start_time": "2020-05-19T17:05:21.449937Z"
    }
   },
   "outputs": [
    {
     "data": {
      "text/plain": [
       "0.9992577581966453"
      ]
     },
     "execution_count": 570,
     "metadata": {},
     "output_type": "execute_result"
    }
   ],
   "source": [
    "det.distance/det.trig[:,:,1].max()"
   ]
  },
  {
   "cell_type": "code",
   "execution_count": 471,
   "metadata": {
    "ExecuteTime": {
     "end_time": "2020-05-21T17:03:31.377687Z",
     "start_time": "2020-05-21T17:03:31.372700Z"
    },
    "scrolled": true
   },
   "outputs": [],
   "source": [
    "seg = Segmentation(**config[\"seg\"])\n",
    "det = Detector(\n",
    "    **config[\"det\"]\n",
    "    #**{k:v for k,v in config[\"det\"].items() if k!= \"offsets\"}, offsets=array([120,150])\n",
    ")"
   ]
  },
  {
   "cell_type": "code",
   "execution_count": 474,
   "metadata": {
    "ExecuteTime": {
     "end_time": "2020-05-21T17:03:46.518961Z",
     "start_time": "2020-05-21T17:03:46.431175Z"
    }
   },
   "outputs": [
    {
     "data": {
      "text/plain": [
       "<matplotlib.image.AxesImage at 0x1fec6f83bc8>"
      ]
     },
     "execution_count": 474,
     "metadata": {},
     "output_type": "execute_result"
    },
    {
     "data": {
      "image/png": "[encoded data removed]",
      "text/plain": [
       "<Figure size 432x288 with 1 Axes>"
      ]
     },
     "metadata": {
      "needs_background": "light"
     },
     "output_type": "display_data"
    }
   ],
   "source": [
    "plt.imshow(det.trig[:,:,0])"
   ]
  },
  {
   "cell_type": "code",
   "execution_count": 456,
   "metadata": {
    "ExecuteTime": {
     "end_time": "2020-05-21T16:58:59.769483Z",
     "start_time": "2020-05-21T16:57:31.699750Z"
    },
    "scrolled": true
   },
   "outputs": [
    {
     "data": {
      "application/vnd.jupyter.widget-view+json": {
       "model_id": "61176a33e02146a59711c24525290422",
       "version_major": 2,
       "version_minor": 0
      },
      "text/plain": [
       "HBox(children=(FloatProgress(value=0.0, description='Iterating over detector row (theta angles).', max=128.0, …"
      ]
     },
     "metadata": {},
     "output_type": "display_data"
    },
    {
     "data": {
      "application/vnd.jupyter.widget-view+json": {
       "model_id": "4cee9a25194a4b4187db674707faaa02",
       "version_major": 2,
       "version_minor": 0
      },
      "text/plain": [
       "HBox(children=(FloatProgress(value=0.0, description='Iterating over detector column (alpha angles).', max=128.…"
      ]
     },
     "metadata": {},
     "output_type": "display_data"
    },
    {
     "name": "stdout",
     "output_type": "stream",
     "text": [
      "\n",
      "\n"
     ]
    }
   ],
   "source": [
    "absf = det.travel_dists(seg)"
   ]
  },
  {
   "cell_type": "code",
   "execution_count": null,
   "metadata": {},
   "outputs": [],
   "source": []
  },
  {
   "cell_type": "code",
   "execution_count": 475,
   "metadata": {
    "ExecuteTime": {
     "end_time": "2020-05-21T17:05:17.945740Z",
     "start_time": "2020-05-21T17:05:17.858971Z"
    }
   },
   "outputs": [
    {
     "data": {
      "text/plain": [
       "<matplotlib.image.AxesImage at 0x1fec6fe8608>"
      ]
     },
     "execution_count": 475,
     "metadata": {},
     "output_type": "execute_result"
    },
    {
     "data": {
      "image/png": "[encoded data removed]",
      "text/plain": [
       "<Figure size 432x288 with 1 Axes>"
      ]
     },
     "metadata": {
      "needs_background": "light"
     },
     "output_type": "display_data"
    }
   ],
   "source": [
    "plt.imshow(det.plane_det[:,:,1])"
   ]
  },
  {
   "cell_type": "code",
   "execution_count": 477,
   "metadata": {
    "ExecuteTime": {
     "end_time": "2020-05-21T17:05:27.093736Z",
     "start_time": "2020-05-21T17:05:26.959429Z"
    }
   },
   "outputs": [
    {
     "data": {
      "text/plain": [
       "<matplotlib.colorbar.Colorbar at 0x1fec712aec8>"
      ]
     },
     "execution_count": 477,
     "metadata": {},
     "output_type": "execute_result"
    },
    {
     "data": {
      "image/png": "[encoded data removed]",
      "text/plain": [
       "<Figure size 432x288 with 2 Axes>"
      ]
     },
     "metadata": {
      "needs_background": "light"
     },
     "output_type": "display_data"
    }
   ],
   "source": [
    "im = plt.imshow(absf.swapaxes(0,1)[:,:,1], origin=\"upper\", aspect=0.9)\n",
    "plt.colorbar(im)"
   ]
  },
  {
   "cell_type": "code",
   "execution_count": 478,
   "metadata": {
    "ExecuteTime": {
     "end_time": "2020-05-21T17:05:36.833799Z",
     "start_time": "2020-05-21T17:05:36.829809Z"
    }
   },
   "outputs": [
    {
     "data": {
      "text/plain": [
       "array([[0.76690649, 0.76690649, 0.76690649, ..., 0.76690649, 0.76690649,\n",
       "        0.76690649],\n",
       "       [0.76690649, 0.76690649, 0.76690649, ..., 0.76690649, 0.76690649,\n",
       "        0.76690649],\n",
       "       [0.76690649, 0.76690649, 0.76690649, ..., 0.76690649, 0.76690649,\n",
       "        0.76690649],\n",
       "       ...,\n",
       "       [0.76690649, 0.76690649, 0.76690649, ..., 0.76690649, 0.76690649,\n",
       "        0.76690649],\n",
       "       [0.76690649, 0.76690649, 0.76690649, ..., 0.76690649, 0.76690649,\n",
       "        0.76690649],\n",
       "       [0.76690649, 0.76690649, 0.76690649, ..., 0.76690649, 0.76690649,\n",
       "        0.76690649]])"
      ]
     },
     "execution_count": 478,
     "metadata": {},
     "output_type": "execute_result"
    }
   ],
   "source": [
    "absf[:,:,1]"
   ]
  },
  {
   "cell_type": "code",
   "execution_count": 256,
   "metadata": {
    "ExecuteTime": {
     "end_time": "2020-05-21T15:10:44.862950Z",
     "start_time": "2020-05-21T15:10:44.746868Z"
    }
   },
   "outputs": [
    {
     "data": {
      "image/png": "[encoded data removed]",
      "text/plain": [
       "<Figure size 432x288 with 1 Axes>"
      ]
     },
     "metadata": {
      "needs_background": "light"
     },
     "output_type": "display_data"
    }
   ],
   "source": [
    "for j in list(range(absf.shape[1]))[::5]:\n",
    "    plt.plot(absf[:,j,1])"
   ]
  },
  {
   "cell_type": "code",
   "execution_count": 259,
   "metadata": {
    "ExecuteTime": {
     "end_time": "2020-05-21T15:11:07.931210Z",
     "start_time": "2020-05-21T15:11:07.845440Z"
    },
    "scrolled": true
   },
   "outputs": [
    {
     "data": {
      "text/plain": [
       "[<matplotlib.lines.Line2D at 0x1fe9c275408>]"
      ]
     },
     "execution_count": 259,
     "metadata": {},
     "output_type": "execute_result"
    },
    {
     "data": {
      "image/png": "[encoded data removed]",
      "text/plain": [
       "<Figure size 432x288 with 1 Axes>"
      ]
     },
     "metadata": {
      "needs_background": "light"
     },
     "output_type": "display_data"
    }
   ],
   "source": [
    "plt.plot(det.trig[0,:,2])"
   ]
  },
  {
   "cell_type": "code",
   "execution_count": null,
   "metadata": {},
   "outputs": [],
   "source": []
  },
  {
   "cell_type": "code",
   "execution_count": 9,
   "metadata": {
    "ExecuteTime": {
     "end_time": "2020-05-13T12:56:22.596236Z",
     "start_time": "2020-05-13T12:56:22.593244Z"
    }
   },
   "outputs": [],
   "source": [
    "seg = Segmentation(**config[\"seg\"])"
   ]
  },
  {
   "cell_type": "code",
   "execution_count": 176,
   "metadata": {
    "ExecuteTime": {
     "end_time": "2020-05-13T14:13:58.206352Z",
     "start_time": "2020-05-13T14:13:58.200368Z"
    }
   },
   "outputs": [],
   "source": [
    "coords = seg.gen_coords(-seg.r_cell*1.05, seg.r_cell*1.05, 512)"
   ]
  },
  {
   "cell_type": "code",
   "execution_count": 12,
   "metadata": {
    "ExecuteTime": {
     "end_time": "2020-05-13T12:56:27.886564Z",
     "start_time": "2020-05-13T12:56:27.882575Z"
    }
   },
   "outputs": [],
   "source": [
    "def array_info(arr):\n",
    "    return array([\n",
    "        [\"Min\", arr.min(axis=(0,1))],\n",
    "        [\"Max\", arr.max(axis=(0,1))],\n",
    "    ])"
   ]
  },
  {
   "cell_type": "code",
   "execution_count": 33,
   "metadata": {
    "ExecuteTime": {
     "end_time": "2020-05-13T13:09:05.157264Z",
     "start_time": "2020-05-13T13:09:05.149718Z"
    }
   },
   "outputs": [],
   "source": [
    "segment_plane = det.translate_segments(det.plane_det)"
   ]
  },
  {
   "cell_type": "code",
   "execution_count": 22,
   "metadata": {
    "ExecuteTime": {
     "end_time": "2020-05-13T12:58:21.124634Z",
     "start_time": "2020-05-13T12:58:21.114657Z"
    }
   },
   "outputs": [
    {
     "data": {
      "text/plain": [
       "array([['Min', array([  4.6 ,   4.3 , 240.18])],\n",
       "       ['Max', array([107.  ,   4.3 , 342.58])]], dtype=object)"
      ]
     },
     "execution_count": 22,
     "metadata": {},
     "output_type": "execute_result"
    }
   ],
   "source": [
    "array_info(segment_plane)"
   ]
  },
  {
   "cell_type": "code",
   "execution_count": 1128,
   "metadata": {
    "ExecuteTime": {
     "end_time": "2020-05-08T00:52:08.121956Z",
     "start_time": "2020-05-08T00:52:08.114974Z"
    }
   },
   "outputs": [
    {
     "ename": "ValueError",
     "evalue": "operands could not be broadcast together with shapes (512,512,4) (3,) ",
     "output_type": "error",
     "traceback": [
      "\u001b[1;31m---------------------------------------------------------------------------\u001b[0m",
      "\u001b[1;31mValueError\u001b[0m                                Traceback (most recent call last)",
      "\u001b[1;32m<ipython-input-1128-c281414d8925>\u001b[0m in \u001b[0;36m<module>\u001b[1;34m\u001b[0m\n\u001b[1;32m----> 1\u001b[1;33m \u001b[1;33m(\u001b[0m\u001b[0msegment_plane\u001b[0m \u001b[1;33m-\u001b[0m \u001b[0mdet\u001b[0m\u001b[1;33m.\u001b[0m\u001b[0moffsets\u001b[0m\u001b[1;33m)\u001b[0m\u001b[1;33m[\u001b[0m\u001b[1;33m:\u001b[0m\u001b[1;33m,\u001b[0m\u001b[1;33m:\u001b[0m\u001b[1;33m,\u001b[0m\u001b[1;36m2\u001b[0m\u001b[1;33m]\u001b[0m\u001b[1;33m.\u001b[0m\u001b[0mmax\u001b[0m\u001b[1;33m(\u001b[0m\u001b[1;33m)\u001b[0m\u001b[1;33m\u001b[0m\u001b[1;33m\u001b[0m\u001b[0m\n\u001b[0m",
      "\u001b[1;31mValueError\u001b[0m: operands could not be broadcast together with shapes (512,512,4) (3,) "
     ]
    }
   ],
   "source": [
    "(segment_plane - det.offsets)[:,:,2].max()"
   ]
  },
  {
   "cell_type": "code",
   "execution_count": 1024,
   "metadata": {
    "ExecuteTime": {
     "end_time": "2020-05-08T00:19:06.358594Z",
     "start_time": "2020-05-08T00:19:06.212465Z"
    }
   },
   "outputs": [
    {
     "data": {
      "application/javascript": [
       "/* Put everything inside the global mpl namespace */\n",
       "window.mpl = {};\n",
       "\n",
       "\n",
       "mpl.get_websocket_type = function() {\n",
       "    if (typeof(WebSocket) !== 'undefined') {\n",
       "        return WebSocket;\n",
       "    } else if (typeof(MozWebSocket) !== 'undefined') {\n",
       "        return MozWebSocket;\n",
       "    } else {\n",
       "        alert('Your browser does not have WebSocket support. ' +\n",
       "              'Please try Chrome, Safari or Firefox ≥ 6. ' +\n",
       "              'Firefox 4 and 5 are also supported but you ' +\n",
       "              'have to enable WebSockets in about:config.');\n",
       "    };\n",
       "}\n",
       "\n",
       "mpl.figure = function(figure_id, websocket, ondownload, parent_element) {\n",
       "    this.id = figure_id;\n",
       "\n",
       "    this.ws = websocket;\n",
       "\n",
       "    this.supports_binary = (this.ws.binaryType != undefined);\n",
       "\n",
       "    if (!this.supports_binary) {\n",
       "        var warnings = document.getElementById(\"mpl-warnings\");\n",
       "        if (warnings) {\n",
       "            warnings.style.display = 'block';\n",
       "            warnings.textContent = (\n",
       "                \"This browser does not support binary websocket messages. \" +\n",
       "                    \"Performance may be slow.\");\n",
       "        }\n",
       "    }\n",
       "\n",
       "    this.imageObj = new Image();\n",
       "\n",
       "    this.context = undefined;\n",
       "    this.message = undefined;\n",
       "    this.canvas = undefined;\n",
       "    this.rubberband_canvas = undefined;\n",
       "    this.rubberband_context = undefined;\n",
       "    this.format_dropdown = undefined;\n",
       "\n",
       "    this.image_mode = 'full';\n",
       "\n",
       "    this.root = $('<div/>');\n",
       "    this._root_extra_style(this.root)\n",
       "    this.root.attr('style', 'display: inline-block');\n",
       "\n",
       "    $(parent_element).append(this.root);\n",
       "\n",
       "    this._init_header(this);\n",
       "    this._init_canvas(this);\n",
       "    this._init_toolbar(this);\n",
       "\n",
       "    var fig = this;\n",
       "\n",
       "    this.waiting = false;\n",
       "\n",
       "    this.ws.onopen =  function () {\n",
       "            fig.send_message(\"supports_binary\", {value: fig.supports_binary});\n",
       "            fig.send_message(\"send_image_mode\", {});\n",
       "            if (mpl.ratio != 1) {\n",
       "                fig.send_message(\"set_dpi_ratio\", {'dpi_ratio': mpl.ratio});\n",
       "            }\n",
       "            fig.send_message(\"refresh\", {});\n",
       "        }\n",
       "\n",
       "    this.imageObj.onload = function() {\n",
       "            if (fig.image_mode == 'full') {\n",
       "                // Full images could contain transparency (where diff images\n",
       "                // almost always do), so we need to clear the canvas so that\n",
       "                // there is no ghosting.\n",
       "                fig.context.clearRect(0, 0, fig.canvas.width, fig.canvas.height);\n",
       "            }\n",
       "            fig.context.drawImage(fig.imageObj, 0, 0);\n",
       "        };\n",
       "\n",
       "    this.imageObj.onunload = function() {\n",
       "        fig.ws.close();\n",
       "    }\n",
       "\n",
       "    this.ws.onmessage = this._make_on_message_function(this);\n",
       "\n",
       "    this.ondownload = ondownload;\n",
       "}\n",
       "\n",
       "mpl.figure.prototype._init_header = function() {\n",
       "    var titlebar = $(\n",
       "        '<div class=\"ui-dialog-titlebar ui-widget-header ui-corner-all ' +\n",
       "        'ui-helper-clearfix\"/>');\n",
       "    var titletext = $(\n",
       "        '<div class=\"ui-dialog-title\" style=\"width: 100%; ' +\n",
       "        'text-align: center; padding: 3px;\"/>');\n",
       "    titlebar.append(titletext)\n",
       "    this.root.append(titlebar);\n",
       "    this.header = titletext[0];\n",
       "}\n",
       "\n",
       "\n",
       "\n",
       "mpl.figure.prototype._canvas_extra_style = function(canvas_div) {\n",
       "\n",
       "}\n",
       "\n",
       "\n",
       "mpl.figure.prototype._root_extra_style = function(canvas_div) {\n",
       "\n",
       "}\n",
       "\n",
       "mpl.figure.prototype._init_canvas = function() {\n",
       "    var fig = this;\n",
       "\n",
       "    var canvas_div = $('<div/>');\n",
       "\n",
       "    canvas_div.attr('style', 'position: relative; clear: both; outline: 0');\n",
       "\n",
       "    function canvas_keyboard_event(event) {\n",
       "        return fig.key_event(event, event['data']);\n",
       "    }\n",
       "\n",
       "    canvas_div.keydown('key_press', canvas_keyboard_event);\n",
       "    canvas_div.keyup('key_release', canvas_keyboard_event);\n",
       "    this.canvas_div = canvas_div\n",
       "    this._canvas_extra_style(canvas_div)\n",
       "    this.root.append(canvas_div);\n",
       "\n",
       "    var canvas = $('<canvas/>');\n",
       "    canvas.addClass('mpl-canvas');\n",
       "    canvas.attr('style', \"left: 0; top: 0; z-index: 0; outline: 0\")\n",
       "\n",
       "    this.canvas = canvas[0];\n",
       "    this.context = canvas[0].getContext(\"2d\");\n",
       "\n",
       "    var backingStore = this.context.backingStorePixelRatio ||\n",
       "\tthis.context.webkitBackingStorePixelRatio ||\n",
       "\tthis.context.mozBackingStorePixelRatio ||\n",
       "\tthis.context.msBackingStorePixelRatio ||\n",
       "\tthis.context.oBackingStorePixelRatio ||\n",
       "\tthis.context.backingStorePixelRatio || 1;\n",
       "\n",
       "    mpl.ratio = (window.devicePixelRatio || 1) / backingStore;\n",
       "\n",
       "    var rubberband = $('<canvas/>');\n",
       "    rubberband.attr('style', \"position: absolute; left: 0; top: 0; z-index: 1;\")\n",
       "\n",
       "    var pass_mouse_events = true;\n",
       "\n",
       "    canvas_div.resizable({\n",
       "        start: function(event, ui) {\n",
       "            pass_mouse_events = false;\n",
       "        },\n",
       "        resize: function(event, ui) {\n",
       "            fig.request_resize(ui.size.width, ui.size.height);\n",
       "        },\n",
       "        stop: function(event, ui) {\n",
       "            pass_mouse_events = true;\n",
       "            fig.request_resize(ui.size.width, ui.size.height);\n",
       "        },\n",
       "    });\n",
       "\n",
       "    function mouse_event_fn(event) {\n",
       "        if (pass_mouse_events)\n",
       "            return fig.mouse_event(event, event['data']);\n",
       "    }\n",
       "\n",
       "    rubberband.mousedown('button_press', mouse_event_fn);\n",
       "    rubberband.mouseup('button_release', mouse_event_fn);\n",
       "    // Throttle sequential mouse events to 1 every 20ms.\n",
       "    rubberband.mousemove('motion_notify', mouse_event_fn);\n",
       "\n",
       "    rubberband.mouseenter('figure_enter', mouse_event_fn);\n",
       "    rubberband.mouseleave('figure_leave', mouse_event_fn);\n",
       "\n",
       "    canvas_div.on(\"wheel\", function (event) {\n",
       "        event = event.originalEvent;\n",
       "        event['data'] = 'scroll'\n",
       "        if (event.deltaY < 0) {\n",
       "            event.step = 1;\n",
       "        } else {\n",
       "            event.step = -1;\n",
       "        }\n",
       "        mouse_event_fn(event);\n",
       "    });\n",
       "\n",
       "    canvas_div.append(canvas);\n",
       "    canvas_div.append(rubberband);\n",
       "\n",
       "    this.rubberband = rubberband;\n",
       "    this.rubberband_canvas = rubberband[0];\n",
       "    this.rubberband_context = rubberband[0].getContext(\"2d\");\n",
       "    this.rubberband_context.strokeStyle = \"#000000\";\n",
       "\n",
       "    this._resize_canvas = function(width, height) {\n",
       "        // Keep the size of the canvas, canvas container, and rubber band\n",
       "        // canvas in synch.\n",
       "        canvas_div.css('width', width)\n",
       "        canvas_div.css('height', height)\n",
       "\n",
       "        canvas.attr('width', width * mpl.ratio);\n",
       "        canvas.attr('height', height * mpl.ratio);\n",
       "        canvas.attr('style', 'width: ' + width + 'px; height: ' + height + 'px;');\n",
       "\n",
       "        rubberband.attr('width', width);\n",
       "        rubberband.attr('height', height);\n",
       "    }\n",
       "\n",
       "    // Set the figure to an initial 600x600px, this will subsequently be updated\n",
       "    // upon first draw.\n",
       "    this._resize_canvas(600, 600);\n",
       "\n",
       "    // Disable right mouse context menu.\n",
       "    $(this.rubberband_canvas).bind(\"contextmenu\",function(e){\n",
       "        return false;\n",
       "    });\n",
       "\n",
       "    function set_focus () {\n",
       "        canvas.focus();\n",
       "        canvas_div.focus();\n",
       "    }\n",
       "\n",
       "    window.setTimeout(set_focus, 100);\n",
       "}\n",
       "\n",
       "mpl.figure.prototype._init_toolbar = function() {\n",
       "    var fig = this;\n",
       "\n",
       "    var nav_element = $('<div/>');\n",
       "    nav_element.attr('style', 'width: 100%');\n",
       "    this.root.append(nav_element);\n",
       "\n",
       "    // Define a callback function for later on.\n",
       "    function toolbar_event(event) {\n",
       "        return fig.toolbar_button_onclick(event['data']);\n",
       "    }\n",
       "    function toolbar_mouse_event(event) {\n",
       "        return fig.toolbar_button_onmouseover(event['data']);\n",
       "    }\n",
       "\n",
       "    for(var toolbar_ind in mpl.toolbar_items) {\n",
       "        var name = mpl.toolbar_items[toolbar_ind][0];\n",
       "        var tooltip = mpl.toolbar_items[toolbar_ind][1];\n",
       "        var image = mpl.toolbar_items[toolbar_ind][2];\n",
       "        var method_name = mpl.toolbar_items[toolbar_ind][3];\n",
       "\n",
       "        if (!name) {\n",
       "            // put a spacer in here.\n",
       "            continue;\n",
       "        }\n",
       "        var button = $('<button/>');\n",
       "        button.addClass('ui-button ui-widget ui-state-default ui-corner-all ' +\n",
       "                        'ui-button-icon-only');\n",
       "        button.attr('role', 'button');\n",
       "        button.attr('aria-disabled', 'false');\n",
       "        button.click(method_name, toolbar_event);\n",
       "        button.mouseover(tooltip, toolbar_mouse_event);\n",
       "\n",
       "        var icon_img = $('<span/>');\n",
       "        icon_img.addClass('ui-button-icon-primary ui-icon');\n",
       "        icon_img.addClass(image);\n",
       "        icon_img.addClass('ui-corner-all');\n",
       "\n",
       "        var tooltip_span = $('<span/>');\n",
       "        tooltip_span.addClass('ui-button-text');\n",
       "        tooltip_span.html(tooltip);\n",
       "\n",
       "        button.append(icon_img);\n",
       "        button.append(tooltip_span);\n",
       "\n",
       "        nav_element.append(button);\n",
       "    }\n",
       "\n",
       "    var fmt_picker_span = $('<span/>');\n",
       "\n",
       "    var fmt_picker = $('<select/>');\n",
       "    fmt_picker.addClass('mpl-toolbar-option ui-widget ui-widget-content');\n",
       "    fmt_picker_span.append(fmt_picker);\n",
       "    nav_element.append(fmt_picker_span);\n",
       "    this.format_dropdown = fmt_picker[0];\n",
       "\n",
       "    for (var ind in mpl.extensions) {\n",
       "        var fmt = mpl.extensions[ind];\n",
       "        var option = $(\n",
       "            '<option/>', {selected: fmt === mpl.default_extension}).html(fmt);\n",
       "        fmt_picker.append(option);\n",
       "    }\n",
       "\n",
       "    // Add hover states to the ui-buttons\n",
       "    $( \".ui-button\" ).hover(\n",
       "        function() { $(this).addClass(\"ui-state-hover\");},\n",
       "        function() { $(this).removeClass(\"ui-state-hover\");}\n",
       "    );\n",
       "\n",
       "    var status_bar = $('<span class=\"mpl-message\"/>');\n",
       "    nav_element.append(status_bar);\n",
       "    this.message = status_bar[0];\n",
       "}\n",
       "\n",
       "mpl.figure.prototype.request_resize = function(x_pixels, y_pixels) {\n",
       "    // Request matplotlib to resize the figure. Matplotlib will then trigger a resize in the client,\n",
       "    // which will in turn request a refresh of the image.\n",
       "    this.send_message('resize', {'width': x_pixels, 'height': y_pixels});\n",
       "}\n",
       "\n",
       "mpl.figure.prototype.send_message = function(type, properties) {\n",
       "    properties['type'] = type;\n",
       "    properties['figure_id'] = this.id;\n",
       "    this.ws.send(JSON.stringify(properties));\n",
       "}\n",
       "\n",
       "mpl.figure.prototype.send_draw_message = function() {\n",
       "    if (!this.waiting) {\n",
       "        this.waiting = true;\n",
       "        this.ws.send(JSON.stringify({type: \"draw\", figure_id: this.id}));\n",
       "    }\n",
       "}\n",
       "\n",
       "\n",
       "mpl.figure.prototype.handle_save = function(fig, msg) {\n",
       "    var format_dropdown = fig.format_dropdown;\n",
       "    var format = format_dropdown.options[format_dropdown.selectedIndex].value;\n",
       "    fig.ondownload(fig, format);\n",
       "}\n",
       "\n",
       "\n",
       "mpl.figure.prototype.handle_resize = function(fig, msg) {\n",
       "    var size = msg['size'];\n",
       "    if (size[0] != fig.canvas.width || size[1] != fig.canvas.height) {\n",
       "        fig._resize_canvas(size[0], size[1]);\n",
       "        fig.send_message(\"refresh\", {});\n",
       "    };\n",
       "}\n",
       "\n",
       "mpl.figure.prototype.handle_rubberband = function(fig, msg) {\n",
       "    var x0 = msg['x0'] / mpl.ratio;\n",
       "    var y0 = (fig.canvas.height - msg['y0']) / mpl.ratio;\n",
       "    var x1 = msg['x1'] / mpl.ratio;\n",
       "    var y1 = (fig.canvas.height - msg['y1']) / mpl.ratio;\n",
       "    x0 = Math.floor(x0) + 0.5;\n",
       "    y0 = Math.floor(y0) + 0.5;\n",
       "    x1 = Math.floor(x1) + 0.5;\n",
       "    y1 = Math.floor(y1) + 0.5;\n",
       "    var min_x = Math.min(x0, x1);\n",
       "    var min_y = Math.min(y0, y1);\n",
       "    var width = Math.abs(x1 - x0);\n",
       "    var height = Math.abs(y1 - y0);\n",
       "\n",
       "    fig.rubberband_context.clearRect(\n",
       "        0, 0, fig.canvas.width / mpl.ratio, fig.canvas.height / mpl.ratio);\n",
       "\n",
       "    fig.rubberband_context.strokeRect(min_x, min_y, width, height);\n",
       "}\n",
       "\n",
       "mpl.figure.prototype.handle_figure_label = function(fig, msg) {\n",
       "    // Updates the figure title.\n",
       "    fig.header.textContent = msg['label'];\n",
       "}\n",
       "\n",
       "mpl.figure.prototype.handle_cursor = function(fig, msg) {\n",
       "    var cursor = msg['cursor'];\n",
       "    switch(cursor)\n",
       "    {\n",
       "    case 0:\n",
       "        cursor = 'pointer';\n",
       "        break;\n",
       "    case 1:\n",
       "        cursor = 'default';\n",
       "        break;\n",
       "    case 2:\n",
       "        cursor = 'crosshair';\n",
       "        break;\n",
       "    case 3:\n",
       "        cursor = 'move';\n",
       "        break;\n",
       "    }\n",
       "    fig.rubberband_canvas.style.cursor = cursor;\n",
       "}\n",
       "\n",
       "mpl.figure.prototype.handle_message = function(fig, msg) {\n",
       "    fig.message.textContent = msg['message'];\n",
       "}\n",
       "\n",
       "mpl.figure.prototype.handle_draw = function(fig, msg) {\n",
       "    // Request the server to send over a new figure.\n",
       "    fig.send_draw_message();\n",
       "}\n",
       "\n",
       "mpl.figure.prototype.handle_image_mode = function(fig, msg) {\n",
       "    fig.image_mode = msg['mode'];\n",
       "}\n",
       "\n",
       "mpl.figure.prototype.updated_canvas_event = function() {\n",
       "    // Called whenever the canvas gets updated.\n",
       "    this.send_message(\"ack\", {});\n",
       "}\n",
       "\n",
       "// A function to construct a web socket function for onmessage handling.\n",
       "// Called in the figure constructor.\n",
       "mpl.figure.prototype._make_on_message_function = function(fig) {\n",
       "    return function socket_on_message(evt) {\n",
       "        if (evt.data instanceof Blob) {\n",
       "            /* FIXME: We get \"Resource interpreted as Image but\n",
       "             * transferred with MIME type text/plain:\" errors on\n",
       "             * Chrome.  But how to set the MIME type?  It doesn't seem\n",
       "             * to be part of the websocket stream */\n",
       "            evt.data.type = \"image/png\";\n",
       "\n",
       "            /* Free the memory for the previous frames */\n",
       "            if (fig.imageObj.src) {\n",
       "                (window.URL || window.webkitURL).revokeObjectURL(\n",
       "                    fig.imageObj.src);\n",
       "            }\n",
       "\n",
       "            fig.imageObj.src = (window.URL || window.webkitURL).createObjectURL(\n",
       "                evt.data);\n",
       "            fig.updated_canvas_event();\n",
       "            fig.waiting = false;\n",
       "            return;\n",
       "        }\n",
       "        else if (typeof evt.data === 'string' && evt.data.slice(0, 21) == \"data:image/png;base64\") {\n",
       "            fig.imageObj.src = evt.data;\n",
       "            fig.updated_canvas_event();\n",
       "            fig.waiting = false;\n",
       "            return;\n",
       "        }\n",
       "\n",
       "        var msg = JSON.parse(evt.data);\n",
       "        var msg_type = msg['type'];\n",
       "\n",
       "        // Call the  \"handle_{type}\" callback, which takes\n",
       "        // the figure and JSON message as its only arguments.\n",
       "        try {\n",
       "            var callback = fig[\"handle_\" + msg_type];\n",
       "        } catch (e) {\n",
       "            console.log(\"No handler for the '\" + msg_type + \"' message type: \", msg);\n",
       "            return;\n",
       "        }\n",
       "\n",
       "        if (callback) {\n",
       "            try {\n",
       "                // console.log(\"Handling '\" + msg_type + \"' message: \", msg);\n",
       "                callback(fig, msg);\n",
       "            } catch (e) {\n",
       "                console.log(\"Exception inside the 'handler_\" + msg_type + \"' callback:\", e, e.stack, msg);\n",
       "            }\n",
       "        }\n",
       "    };\n",
       "}\n",
       "\n",
       "// from http://stackoverflow.com/questions/1114465/getting-mouse-location-in-canvas\n",
       "mpl.findpos = function(e) {\n",
       "    //this section is from http://www.quirksmode.org/js/events_properties.html\n",
       "    var targ;\n",
       "    if (!e)\n",
       "        e = window.event;\n",
       "    if (e.target)\n",
       "        targ = e.target;\n",
       "    else if (e.srcElement)\n",
       "        targ = e.srcElement;\n",
       "    if (targ.nodeType == 3) // defeat Safari bug\n",
       "        targ = targ.parentNode;\n",
       "\n",
       "    // jQuery normalizes the pageX and pageY\n",
       "    // pageX,Y are the mouse positions relative to the document\n",
       "    // offset() returns the position of the element relative to the document\n",
       "    var x = e.pageX - $(targ).offset().left;\n",
       "    var y = e.pageY - $(targ).offset().top;\n",
       "\n",
       "    return {\"x\": x, \"y\": y};\n",
       "};\n",
       "\n",
       "/*\n",
       " * return a copy of an object with only non-object keys\n",
       " * we need this to avoid circular references\n",
       " * http://stackoverflow.com/a/24161582/3208463\n",
       " */\n",
       "function simpleKeys (original) {\n",
       "  return Object.keys(original).reduce(function (obj, key) {\n",
       "    if (typeof original[key] !== 'object')\n",
       "        obj[key] = original[key]\n",
       "    return obj;\n",
       "  }, {});\n",
       "}\n",
       "\n",
       "mpl.figure.prototype.mouse_event = function(event, name) {\n",
       "    var canvas_pos = mpl.findpos(event)\n",
       "\n",
       "    if (name === 'button_press')\n",
       "    {\n",
       "        this.canvas.focus();\n",
       "        this.canvas_div.focus();\n",
       "    }\n",
       "\n",
       "    var x = canvas_pos.x * mpl.ratio;\n",
       "    var y = canvas_pos.y * mpl.ratio;\n",
       "\n",
       "    this.send_message(name, {x: x, y: y, button: event.button,\n",
       "                             step: event.step,\n",
       "                             guiEvent: simpleKeys(event)});\n",
       "\n",
       "    /* This prevents the web browser from automatically changing to\n",
       "     * the text insertion cursor when the button is pressed.  We want\n",
       "     * to control all of the cursor setting manually through the\n",
       "     * 'cursor' event from matplotlib */\n",
       "    event.preventDefault();\n",
       "    return false;\n",
       "}\n",
       "\n",
       "mpl.figure.prototype._key_event_extra = function(event, name) {\n",
       "    // Handle any extra behaviour associated with a key event\n",
       "}\n",
       "\n",
       "mpl.figure.prototype.key_event = function(event, name) {\n",
       "\n",
       "    // Prevent repeat events\n",
       "    if (name == 'key_press')\n",
       "    {\n",
       "        if (event.which === this._key)\n",
       "            return;\n",
       "        else\n",
       "            this._key = event.which;\n",
       "    }\n",
       "    if (name == 'key_release')\n",
       "        this._key = null;\n",
       "\n",
       "    var value = '';\n",
       "    if (event.ctrlKey && event.which != 17)\n",
       "        value += \"ctrl+\";\n",
       "    if (event.altKey && event.which != 18)\n",
       "        value += \"alt+\";\n",
       "    if (event.shiftKey && event.which != 16)\n",
       "        value += \"shift+\";\n",
       "\n",
       "    value += 'k';\n",
       "    value += event.which.toString();\n",
       "\n",
       "    this._key_event_extra(event, name);\n",
       "\n",
       "    this.send_message(name, {key: value,\n",
       "                             guiEvent: simpleKeys(event)});\n",
       "    return false;\n",
       "}\n",
       "\n",
       "mpl.figure.prototype.toolbar_button_onclick = function(name) {\n",
       "    if (name == 'download') {\n",
       "        this.handle_save(this, null);\n",
       "    } else {\n",
       "        this.send_message(\"toolbar_button\", {name: name});\n",
       "    }\n",
       "};\n",
       "\n",
       "mpl.figure.prototype.toolbar_button_onmouseover = function(tooltip) {\n",
       "    this.message.textContent = tooltip;\n",
       "};\n",
       "mpl.toolbar_items = [[\"Home\", \"Reset original view\", \"fa fa-home icon-home\", \"home\"], [\"Back\", \"Back to previous view\", \"fa fa-arrow-left icon-arrow-left\", \"back\"], [\"Forward\", \"Forward to next view\", \"fa fa-arrow-right icon-arrow-right\", \"forward\"], [\"\", \"\", \"\", \"\"], [\"Pan\", \"Pan axes with left mouse, zoom with right\", \"fa fa-arrows icon-move\", \"pan\"], [\"Zoom\", \"Zoom to rectangle\", \"fa fa-square-o icon-check-empty\", \"zoom\"], [\"\", \"\", \"\", \"\"], [\"Download\", \"Download plot\", \"fa fa-floppy-o icon-save\", \"download\"]];\n",
       "\n",
       "mpl.extensions = [\"eps\", \"jpeg\", \"pdf\", \"png\", \"ps\", \"raw\", \"svg\", \"tif\"];\n",
       "\n",
       "mpl.default_extension = \"png\";var comm_websocket_adapter = function(comm) {\n",
       "    // Create a \"websocket\"-like object which calls the given IPython comm\n",
       "    // object with the appropriate methods. Currently this is a non binary\n",
       "    // socket, so there is still some room for performance tuning.\n",
       "    var ws = {};\n",
       "\n",
       "    ws.close = function() {\n",
       "        comm.close()\n",
       "    };\n",
       "    ws.send = function(m) {\n",
       "        //console.log('sending', m);\n",
       "        comm.send(m);\n",
       "    };\n",
       "    // Register the callback with on_msg.\n",
       "    comm.on_msg(function(msg) {\n",
       "        //console.log('receiving', msg['content']['data'], msg);\n",
       "        // Pass the mpl event to the overridden (by mpl) onmessage function.\n",
       "        ws.onmessage(msg['content']['data'])\n",
       "    });\n",
       "    return ws;\n",
       "}\n",
       "\n",
       "mpl.mpl_figure_comm = function(comm, msg) {\n",
       "    // This is the function which gets called when the mpl process\n",
       "    // starts-up an IPython Comm through the \"matplotlib\" channel.\n",
       "\n",
       "    var id = msg.content.data.id;\n",
       "    // Get hold of the div created by the display call when the Comm\n",
       "    // socket was opened in Python.\n",
       "    var element = $(\"#\" + id);\n",
       "    var ws_proxy = comm_websocket_adapter(comm)\n",
       "\n",
       "    function ondownload(figure, format) {\n",
       "        window.open(figure.imageObj.src);\n",
       "    }\n",
       "\n",
       "    var fig = new mpl.figure(id, ws_proxy,\n",
       "                           ondownload,\n",
       "                           element.get(0));\n",
       "\n",
       "    // Call onopen now - mpl needs it, as it is assuming we've passed it a real\n",
       "    // web socket which is closed, not our websocket->open comm proxy.\n",
       "    ws_proxy.onopen();\n",
       "\n",
       "    fig.parent_element = element.get(0);\n",
       "    fig.cell_info = mpl.find_output_cell(\"<div id='\" + id + \"'></div>\");\n",
       "    if (!fig.cell_info) {\n",
       "        console.error(\"Failed to find cell for figure\", id, fig);\n",
       "        return;\n",
       "    }\n",
       "\n",
       "    var output_index = fig.cell_info[2]\n",
       "    var cell = fig.cell_info[0];\n",
       "\n",
       "};\n",
       "\n",
       "mpl.figure.prototype.handle_close = function(fig, msg) {\n",
       "    var width = fig.canvas.width/mpl.ratio\n",
       "    fig.root.unbind('remove')\n",
       "\n",
       "    // Update the output cell to use the data from the current canvas.\n",
       "    fig.push_to_output();\n",
       "    var dataURL = fig.canvas.toDataURL();\n",
       "    // Re-enable the keyboard manager in IPython - without this line, in FF,\n",
       "    // the notebook keyboard shortcuts fail.\n",
       "    IPython.keyboard_manager.enable()\n",
       "    $(fig.parent_element).html('<img src=\"' + dataURL + '\" width=\"' + width + '\">');\n",
       "    fig.close_ws(fig, msg);\n",
       "}\n",
       "\n",
       "mpl.figure.prototype.close_ws = function(fig, msg){\n",
       "    fig.send_message('closing', msg);\n",
       "    // fig.ws.close()\n",
       "}\n",
       "\n",
       "mpl.figure.prototype.push_to_output = function(remove_interactive) {\n",
       "    // Turn the data on the canvas into data in the output cell.\n",
       "    var width = this.canvas.width/mpl.ratio\n",
       "    var dataURL = this.canvas.toDataURL();\n",
       "    this.cell_info[1]['text/html'] = '<img src=\"' + dataURL + '\" width=\"' + width + '\">';\n",
       "}\n",
       "\n",
       "mpl.figure.prototype.updated_canvas_event = function() {\n",
       "    // Tell IPython that the notebook contents must change.\n",
       "    IPython.notebook.set_dirty(true);\n",
       "    this.send_message(\"ack\", {});\n",
       "    var fig = this;\n",
       "    // Wait a second, then push the new image to the DOM so\n",
       "    // that it is saved nicely (might be nice to debounce this).\n",
       "    setTimeout(function () { fig.push_to_output() }, 1000);\n",
       "}\n",
       "\n",
       "mpl.figure.prototype._init_toolbar = function() {\n",
       "    var fig = this;\n",
       "\n",
       "    var nav_element = $('<div/>');\n",
       "    nav_element.attr('style', 'width: 100%');\n",
       "    this.root.append(nav_element);\n",
       "\n",
       "    // Define a callback function for later on.\n",
       "    function toolbar_event(event) {\n",
       "        return fig.toolbar_button_onclick(event['data']);\n",
       "    }\n",
       "    function toolbar_mouse_event(event) {\n",
       "        return fig.toolbar_button_onmouseover(event['data']);\n",
       "    }\n",
       "\n",
       "    for(var toolbar_ind in mpl.toolbar_items){\n",
       "        var name = mpl.toolbar_items[toolbar_ind][0];\n",
       "        var tooltip = mpl.toolbar_items[toolbar_ind][1];\n",
       "        var image = mpl.toolbar_items[toolbar_ind][2];\n",
       "        var method_name = mpl.toolbar_items[toolbar_ind][3];\n",
       "\n",
       "        if (!name) { continue; };\n",
       "\n",
       "        var button = $('<button class=\"btn btn-default\" href=\"#\" title=\"' + name + '\"><i class=\"fa ' + image + ' fa-lg\"></i></button>');\n",
       "        button.click(method_name, toolbar_event);\n",
       "        button.mouseover(tooltip, toolbar_mouse_event);\n",
       "        nav_element.append(button);\n",
       "    }\n",
       "\n",
       "    // Add the status bar.\n",
       "    var status_bar = $('<span class=\"mpl-message\" style=\"text-align:right; float: right;\"/>');\n",
       "    nav_element.append(status_bar);\n",
       "    this.message = status_bar[0];\n",
       "\n",
       "    // Add the close button to the window.\n",
       "    var buttongrp = $('<div class=\"btn-group inline pull-right\"></div>');\n",
       "    var button = $('<button class=\"btn btn-mini btn-primary\" href=\"#\" title=\"Stop Interaction\"><i class=\"fa fa-power-off icon-remove icon-large\"></i></button>');\n",
       "    button.click(function (evt) { fig.handle_close(fig, {}); } );\n",
       "    button.mouseover('Stop Interaction', toolbar_mouse_event);\n",
       "    buttongrp.append(button);\n",
       "    var titlebar = this.root.find($('.ui-dialog-titlebar'));\n",
       "    titlebar.prepend(buttongrp);\n",
       "}\n",
       "\n",
       "mpl.figure.prototype._root_extra_style = function(el){\n",
       "    var fig = this\n",
       "    el.on(\"remove\", function(){\n",
       "\tfig.close_ws(fig, {});\n",
       "    });\n",
       "}\n",
       "\n",
       "mpl.figure.prototype._canvas_extra_style = function(el){\n",
       "    // this is important to make the div 'focusable\n",
       "    el.attr('tabindex', 0)\n",
       "    // reach out to IPython and tell the keyboard manager to turn it's self\n",
       "    // off when our div gets focus\n",
       "\n",
       "    // location in version 3\n",
       "    if (IPython.notebook.keyboard_manager) {\n",
       "        IPython.notebook.keyboard_manager.register_events(el);\n",
       "    }\n",
       "    else {\n",
       "        // location in version 2\n",
       "        IPython.keyboard_manager.register_events(el);\n",
       "    }\n",
       "\n",
       "}\n",
       "\n",
       "mpl.figure.prototype._key_event_extra = function(event, name) {\n",
       "    var manager = IPython.notebook.keyboard_manager;\n",
       "    if (!manager)\n",
       "        manager = IPython.keyboard_manager;\n",
       "\n",
       "    // Check for shift+enter\n",
       "    if (event.shiftKey && event.which == 13) {\n",
       "        this.canvas_div.blur();\n",
       "        // select the cell after this one\n",
       "        var index = IPython.notebook.find_cell_index(this.cell_info[0]);\n",
       "        IPython.notebook.select(index + 1);\n",
       "    }\n",
       "}\n",
       "\n",
       "mpl.figure.prototype.handle_save = function(fig, msg) {\n",
       "    fig.ondownload(fig, null);\n",
       "}\n",
       "\n",
       "\n",
       "mpl.find_output_cell = function(html_output) {\n",
       "    // Return the cell and output element which can be found *uniquely* in the notebook.\n",
       "    // Note - this is a bit hacky, but it is done because the \"notebook_saving.Notebook\"\n",
       "    // IPython event is triggered only after the cells have been serialised, which for\n",
       "    // our purposes (turning an active figure into a static one), is too late.\n",
       "    var cells = IPython.notebook.get_cells();\n",
       "    var ncells = cells.length;\n",
       "    for (var i=0; i<ncells; i++) {\n",
       "        var cell = cells[i];\n",
       "        if (cell.cell_type === 'code'){\n",
       "            for (var j=0; j<cell.output_area.outputs.length; j++) {\n",
       "                var data = cell.output_area.outputs[j];\n",
       "                if (data.data) {\n",
       "                    // IPython >= 3 moved mimebundle to data attribute of output\n",
       "                    data = data.data;\n",
       "                }\n",
       "                if (data['text/html'] == html_output) {\n",
       "                    return [cell, data, j];\n",
       "                }\n",
       "            }\n",
       "        }\n",
       "    }\n",
       "}\n",
       "\n",
       "// Register the function which deals with the matplotlib target/channel.\n",
       "// The kernel may be null if the page has been refreshed.\n",
       "if (IPython.notebook.kernel != null) {\n",
       "    IPython.notebook.kernel.comm_manager.register_target('matplotlib', mpl.mpl_figure_comm);\n",
       "}\n"
      ],
      "text/plain": [
       "<IPython.core.display.Javascript object>"
      ]
     },
     "metadata": {},
     "output_type": "display_data"
    },
    {
     "data": {
      "text/html": [
       "<img src=\"data:image/png;base64,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\" width=\"640\">"
      ],
      "text/plain": [
       "<IPython.core.display.HTML object>"
      ]
     },
     "metadata": {},
     "output_type": "display_data"
    }
   ],
   "source": [
    "%matplotlib notebook\n",
    "from mpl_toolkits.mplot3d import Axes3D  # noqa: F401 unused import\n",
    "\n",
    "fig = plt.figure()\n",
    "ax = fig.gca(projection='3d')\n",
    "\n",
    "surf = ax.plot_surface(\n",
    "    segment_plane[:,:,0], \n",
    "    segment_plane[:,:,1],\n",
    "    #np.ones(segment_plane.shape)[:,:,0],\n",
    "    segment_plane[:,:,2]+norm(segment_plane[:,:,:2], axis=2), \n",
    "    cmap=plt.cm.coolwarm, linewidth=0, antialiased=False)\n",
    "\n",
    "ax.view_init(-75, 90)\n",
    "plt.draw()"
   ]
  },
  {
   "cell_type": "code",
   "execution_count": 899,
   "metadata": {
    "ExecuteTime": {
     "end_time": "2020-05-07T22:46:15.256392Z",
     "start_time": "2020-05-07T22:46:15.168983Z"
    }
   },
   "outputs": [
    {
     "data": {
      "text/plain": [
       "<matplotlib.image.AxesImage at 0x15694b7b048>"
      ]
     },
     "execution_count": 899,
     "metadata": {},
     "output_type": "execute_result"
    },
    {
     "data": {
      "image/png": "[encoded data removed]",
      "text/plain": [
       "<Figure size 432x288 with 1 Axes>"
      ]
     },
     "metadata": {
      "needs_background": "light"
     },
     "output_type": "display_data"
    }
   ],
   "source": [
    "plt.imshow(det.plane_coords[:,:,1], origin=\"lower\")"
   ]
  },
  {
   "cell_type": "code",
   "execution_count": 910,
   "metadata": {
    "ExecuteTime": {
     "end_time": "2020-05-07T22:48:24.392166Z",
     "start_time": "2020-05-07T22:48:24.389174Z"
    }
   },
   "outputs": [],
   "source": [
    "pl = det.plane_coords"
   ]
  },
  {
   "cell_type": "code",
   "execution_count": 962,
   "metadata": {
    "ExecuteTime": {
     "end_time": "2020-05-07T22:56:00.675609Z",
     "start_time": "2020-05-07T22:56:00.671607Z"
    }
   },
   "outputs": [
    {
     "data": {
      "text/plain": [
       "0.014322916666666666"
      ]
     },
     "execution_count": 962,
     "metadata": {},
     "output_type": "execute_result"
    }
   ],
   "source": [
    "len(pl[pl[:,:,1]<det.offsets[1]])/pl.size"
   ]
  }
 ],
 "metadata": {
  "kernelspec": {
   "display_name": "Python 3",
   "language": "python",
   "name": "python3"
  },
  "language_info": {
   "codemirror_mode": {
    "name": "ipython",
    "version": 3
   },
   "file_extension": ".py",
   "mimetype": "text/x-python",
   "name": "python",
   "nbconvert_exporter": "python",
   "pygments_lexer": "ipython3",
   "version": "3.7.6"
  }
 },
 "nbformat": 4,
 "nbformat_minor": 4
}
