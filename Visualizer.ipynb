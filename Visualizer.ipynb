{
 "cells": [
  {
   "cell_type": "code",
   "execution_count": 1,
   "metadata": {
    "ExecuteTime": {
     "end_time": "2020-04-17T15:15:08.663632Z",
     "start_time": "2020-04-17T15:15:08.070802Z"
    }
   },
   "outputs": [],
   "source": [
    "import numpy as np\n",
    "norm = np.linalg.norm\n",
    "sqrt = np.math.sqrt\n",
    "dot = np.dot\n",
    "array = np.array\n",
    "import os\n",
    "\n",
    "import matplotlib.pyplot as plt\n",
    "import matplotlib.colors\n",
    "#import scipy.linalg as la"
   ]
  },
  {
   "cell_type": "code",
   "execution_count": 2,
   "metadata": {
    "ExecuteTime": {
     "end_time": "2020-04-17T15:16:46.733366Z",
     "start_time": "2020-04-17T15:16:46.729080Z"
    },
    "hide_input": false
   },
   "outputs": [],
   "source": [
    "def name_gen(n): return f\"Output n={2**n}.txt\"\n",
    "def name_gen_old(n): return f\"Distances2D_old Output n={2**n}.txt\"\n",
    "basepath = os.path.join(\n",
    "    \"Documents\",\"programming\",\"C# projects\",\"fopra_absorb\",\"UnityStuff\",\"Logs\",\"Distances2D\"\n",
    ")"
   ]
  },
  {
   "cell_type": "code",
   "execution_count": 579,
   "metadata": {
    "ExecuteTime": {
     "end_time": "2020-03-18T20:39:39.848807Z",
     "start_time": "2020-03-18T20:39:39.836182Z"
    },
    "code_folding": [
     0
    ],
    "hide_input": false
   },
   "outputs": [],
   "source": [
    "def in_out_old(n, plot=True, cmap=plt.cm.get_cmap(\"PiYG\",5), radius=12):\n",
    "    path = os.path.join(os.path.expanduser(\"~\"), *basepath.split(\"/\"), name_gen_old(n))\n",
    "    with open(path) as f:\n",
    "        lines = f.readlines()\n",
    "\n",
    "    coords = [line.split(\"; \") for line in lines]\n",
    "        \n",
    "    total = np.array([[tuple(map(float,coords[i][j][1:-1].split(\", \")))[0] for j in range(len(coords))] for i in range(len(coords))]).T\n",
    "    outer = np.array([[tuple(map(float,coords[i][j][1:-1].split(\", \")))[1] for j in range(len(coords))] for i in range(len(coords))]).T\n",
    "    inner = np.array([[tuple(map(float,coords[i][j][1:-1].split(\", \")))[2] for j in range(len(coords))] for i in range(len(coords))]).T\n",
    "    \n",
    "    if plot:\n",
    "        fig, axs = plt.subplots(ncols=3, figsize=(16,10), \n",
    "                               # gridspec_kw={'width_ratios': [1, 1]}\n",
    "                               )\n",
    "        axs[0].imshow(total, cmap=cmap, interpolation='none', extent=[-radius,radius,-radius,radius])\n",
    "        axs[0].set_title(\"Total distances\")\n",
    "        axs[1].imshow(outer, cmap=cmap, interpolation='none', extent=[-radius,radius,-radius,radius])\n",
    "        axs[1].set_title(\"Outer distances\")\n",
    "        axs[2].imshow(inner, cmap=cmap, interpolation='none', extent=[-radius,radius,-radius,radius])\n",
    "        axs[2].set_title(\"Inner distances\");\n",
    "        fig.colorbar(plt.cm.ScalarMappable(cmap=cmap), ax=axs, orientation='horizontal', fraction=.1, aspect=30, pad=0.1)\n",
    "        return total, inner, outer, axs\n",
    "    return total,inner,outer"
   ]
  },
  {
   "cell_type": "code",
   "execution_count": 37,
   "metadata": {
    "ExecuteTime": {
     "end_time": "2020-04-17T15:43:57.083700Z",
     "start_time": "2020-04-17T15:43:57.066083Z"
    },
    "code_folding": [],
    "hide_input": false
   },
   "outputs": [],
   "source": [
    "def in_out(n, plot=True, cmap=plt.cm.get_cmap(\"PiYG\",5), radius=12, margin=1.05):\n",
    "    path = os.path.join(os.path.expanduser(\"~\"), *basepath.split(\"/\"), name_gen(n))\n",
    "    with open(path) as f:\n",
    "        lines = f.readlines()\n",
    "\n",
    "    coords = [line.split(\"; \") for line in lines]\n",
    "        \n",
    "    inner = np.array([[tuple(map(float,coords[i][j][1:-1].split(\", \")))[1] for j in range(len(coords))] for i in range(len(coords))]).T\n",
    "    outer = np.array([[tuple(map(float,coords[i][j][1:-1].split(\", \")))[0] for j in range(len(coords))] for i in range(len(coords))]).T\n",
    "    distances = np.stack((outer, inner), axis=2)\n",
    "    \n",
    "    a = min(inner.min(), outer.min())\n",
    "    b = max(inner.max(), outer.max())\n",
    "    titles = [\"Cell\", \"Sample\"]\n",
    "\n",
    "    if plot:\n",
    "        fig, axs = plt.subplots(ncols=distances.shape[2], figsize=(16,10), gridspec_kw={'width_ratios': [1]*distances.shape[2]})\n",
    "        for i in range(2):\n",
    "            im = axs[i].imshow(distances[:,:,i], \n",
    "                        cmap=cmap, interpolation='none', \n",
    "                        origin=\"lower\",\n",
    "                        extent=[-radius*margin, radius*margin]*2,\n",
    "                        vmin=a, vmax=b)\n",
    "            axs[i].set_title(titles[i] + \" distances\")\n",
    "\n",
    "        if cmap is None:\n",
    "            cmap = plt.cm.get_cmap(\"viridis\", 10)\n",
    "        cmap.set_bad(color='red')\n",
    "        #cmap.set_under(color=\"black\")\n",
    "        fig.colorbar(im, ax=axs, orientation='horizontal', fraction=.1, aspect=30, pad=0.1)\n",
    "    \n",
    "        return None, inner, outer, axs\n",
    "    return None, inner,outer"
   ]
  },
  {
   "cell_type": "code",
   "execution_count": 535,
   "metadata": {
    "ExecuteTime": {
     "end_time": "2020-03-17T23:52:18.019210Z",
     "start_time": "2020-03-17T23:52:18.015729Z"
    },
    "hide_input": false
   },
   "outputs": [],
   "source": [
    "unique_vals = np.unique(inner[~np.isnan(inner)])\n",
    "value_count = unique_vals.shape[0]\n",
    "zero_loc = np.argwhere(unique_vals==0).flatten()[0]"
   ]
  },
  {
   "cell_type": "code",
   "execution_count": 33,
   "metadata": {
    "ExecuteTime": {
     "end_time": "2020-04-17T15:42:36.032794Z",
     "start_time": "2020-04-17T15:42:36.025201Z"
    },
    "hide_input": false
   },
   "outputs": [],
   "source": [
    "cmp = plt.cm.get_cmap(\"viridis\", 10)\n",
    "cmp.set_bad(color='red')\n",
    "#cmp.set_under(color=\"black\")"
   ]
  },
  {
   "cell_type": "code",
   "execution_count": 16,
   "metadata": {
    "ExecuteTime": {
     "end_time": "2020-04-17T15:30:35.754222Z",
     "start_time": "2020-04-17T15:30:35.750894Z"
    }
   },
   "outputs": [],
   "source": [
    "path = os.path.join(os.path.expanduser(\"~\"), *basepath.split(\"/\"), name_gen(n))"
   ]
  },
  {
   "cell_type": "code",
   "execution_count": 11,
   "metadata": {
    "ExecuteTime": {
     "end_time": "2020-04-17T15:27:06.368185Z",
     "start_time": "2020-04-17T15:27:06.361883Z"
    }
   },
   "outputs": [
    {
     "data": {
      "text/plain": [
       "'/Users/Seve/Documents/programming/C# projects/fopra_absorb/UnityStuff/Logs/Distances2D/Output n=8.txt'"
      ]
     },
     "execution_count": 11,
     "metadata": {},
     "output_type": "execute_result"
    }
   ],
   "source": [
    "path"
   ]
  },
  {
   "cell_type": "code",
   "execution_count": 12,
   "metadata": {
    "ExecuteTime": {
     "end_time": "2020-04-17T15:28:07.131319Z",
     "start_time": "2020-04-17T15:28:07.122332Z"
    }
   },
   "outputs": [],
   "source": [
    "with open(path) as f:\n",
    "    lines = f.readlines()\n",
    "\n",
    "    coords = [line.split(\"; \") for line in lines]\n",
    "        \n",
    "    inner = np.array([\n",
    "            [tuple(map(float,coords[i][j][1:-1].split(\", \")))[1] \n",
    "             for j in range(len(coords))] for i in range(len(coords))]\n",
    "            ).T\n",
    "    outer = np.array([\n",
    "            [tuple(map(float,coords[i][j][1:-1].split(\", \")))[0] \n",
    "            for j in range(len(coords))] for i in range(len(coords))]\n",
    "            ).T"
   ]
  },
  {
   "cell_type": "code",
   "execution_count": 127,
   "metadata": {
    "ExecuteTime": {
     "end_time": "2020-04-17T17:04:14.880477Z",
     "start_time": "2020-04-17T17:04:14.288366Z"
    },
    "hide_input": false
   },
   "outputs": [
    {
     "data": {
      "image/png": "[encoded data removed]",
      "text/plain": [
       "<Figure size 1152x720 with 3 Axes>"
      ]
     },
     "metadata": {
      "needs_background": "light"
     },
     "output_type": "display_data"
    }
   ],
   "source": [
    "k = 5\n",
    "total, inner, outer, axs = in_out(k, cmap=cmp)"
   ]
  },
  {
   "cell_type": "code",
   "execution_count": 769,
   "metadata": {
    "ExecuteTime": {
     "end_time": "2020-03-18T22:21:19.709515Z",
     "start_time": "2020-03-18T22:21:18.949742Z"
    }
   },
   "outputs": [
    {
     "data": {
      "image/png": "[encoded data removed]",
      "text/plain": [
       "<Figure size 1152x720 with 4 Axes>"
      ]
     },
     "metadata": {
      "needs_background": "light"
     },
     "output_type": "display_data"
    }
   ],
   "source": [
    "n = 6\n",
    "total, inner, outer, axs = in_out_old(n, cmap=cmp)"
   ]
  }
 ],
 "metadata": {
  "kernelspec": {
   "display_name": "Python 3",
   "language": "python",
   "name": "python3"
  },
  "language_info": {
   "codemirror_mode": {
    "name": "ipython",
    "version": 3
   },
   "file_extension": ".py",
   "mimetype": "text/x-python",
   "name": "python",
   "nbconvert_exporter": "python",
   "pygments_lexer": "ipython3",
   "version": "3.7.7"
  },
  "toc": {
   "base_numbering": 1,
   "nav_menu": {},
   "number_sections": true,
   "sideBar": true,
   "skip_h1_title": false,
   "title_cell": "Table of Contents",
   "title_sidebar": "Contents",
   "toc_cell": false,
   "toc_position": {},
   "toc_section_display": true,
   "toc_window_display": false
  }
 },
 "nbformat": 4,
 "nbformat_minor": 2
}
